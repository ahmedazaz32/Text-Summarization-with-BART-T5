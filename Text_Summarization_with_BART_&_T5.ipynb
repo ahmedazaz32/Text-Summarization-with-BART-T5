{
  "nbformat": 4,
  "nbformat_minor": 0,
  "metadata": {
    "colab": {
      "provenance": [],
      "authorship_tag": "ABX9TyNp5YpQBGMv9KN4GfJyDeID",
      "include_colab_link": true
    },
    "kernelspec": {
      "name": "python3",
      "display_name": "Python 3"
    },
    "language_info": {
      "name": "python"
    },
    "accelerator": "TPU"
  },
  "cells": [
    {
      "cell_type": "markdown",
      "metadata": {
        "id": "view-in-github",
        "colab_type": "text"
      },
      "source": [
        "<a href=\"https://colab.research.google.com/github/ahmedazaz32/Text-Summarization-with-BART-T5/blob/main/Text_Summarization_with_BART_%26_T5.ipynb\" target=\"_parent\"><img src=\"https://colab.research.google.com/assets/colab-badge.svg\" alt=\"Open In Colab\"/></a>"
      ]
    },
    {
      "cell_type": "code",
      "execution_count": null,
      "metadata": {
        "id": "7JhvAPO-WehN"
      },
      "outputs": [],
      "source": [
        "!pip install transformers --upgrade"
      ]
    },
    {
      "cell_type": "code",
      "source": [
        "!pip install tensorflow_probability==0.12.2\n"
      ],
      "metadata": {
        "id": "j27I9X7bW5Bh"
      },
      "execution_count": null,
      "outputs": []
    },
    {
      "cell_type": "code",
      "source": [
        "from transformers import pipeline"
      ],
      "metadata": {
        "id": "_X9XQLVzXYN3"
      },
      "execution_count": 4,
      "outputs": []
    },
    {
      "cell_type": "code",
      "source": [
        "import requests\n",
        "import pprint\n",
        "import time\n",
        "pp = pprint.PrettyPrinter(indent=14)"
      ],
      "metadata": {
        "id": "KK55bd0CXr18"
      },
      "execution_count": 5,
      "outputs": []
    },
    {
      "cell_type": "code",
      "source": [
        "## documentation for summarizer: https://huggingface.co/transformers/main_classes/pipelines.html#summarizationpipeline\n",
        "# summarize with BART\n",
        "summarizer_bart = pipeline(task='summarization', model=\"facebook/bart-large-cnn\")\n",
        "# summarize with T5\n",
        "summarizer_t5 = pipeline(task='summarization', model=\"t5-large\") # options: ‘t5-small’, ‘t5-base’, ‘t5-large’, ‘t5-3b’, ‘t5-11b’\n",
        "#for T5 you can chose the size of the model. Everything above t5-base is very slow, even on GPU or TPU."
      ],
      "metadata": {
        "id": "Z0xz3fk1XwrY"
      },
      "execution_count": null,
      "outputs": []
    },
    {
      "cell_type": "code",
      "source": [
        "## download book\n",
        "book_raw = requests.get(\"http://www.gutenberg.org/cache/epub/61/pg61.txt\")\n",
        "communist_manifesto = book_raw.text\n",
        "# cleaning\n",
        "delimiter = \"[From the English edition of 1888, edited by Friedrich Engels]\"\n",
        "communist_manifesto_cl = communist_manifesto.split(delimiter, 1)[1]\n",
        "delimiter2 = \"WORKING MEN OF ALL COUNTRIES, UNITE!\"\n",
        "communist_manifesto_cl =  communist_manifesto_cl.split(delimiter2, 1)[0] + delimiter2\n",
        "#print(communist_manifesto_cl)"
      ],
      "metadata": {
        "id": "92p_v1fAYhjL"
      },
      "execution_count": 8,
      "outputs": []
    },
    {
      "cell_type": "code",
      "source": [
        "## summarize book with BART model\n",
        "t0 = time.time() # timer\n",
        "summary_manifesto_bart = summarizer_bart(communist_manifesto_cl, truncation=True, min_length=150, max_length=500) # change min_ and max_length for different output\n",
        "print(\"Summarization took \" + str(round((time.time() - t0) / 60, 2)) + \" minutes.\")"
      ],
      "metadata": {
        "colab": {
          "base_uri": "https://localhost:8080/"
        },
        "id": "140aOipNYmnX",
        "outputId": "69f57f1d-2104-413a-a63e-b1a55395f999"
      },
      "execution_count": 10,
      "outputs": [
        {
          "output_type": "stream",
          "name": "stdout",
          "text": [
            "Summarization took 1.1 minutes.\n"
          ]
        }
      ]
    },
    {
      "cell_type": "code",
      "source": [
        "pp.pprint(summary_manifesto_bart[0]['summary_text'])"
      ],
      "metadata": {
        "colab": {
          "base_uri": "https://localhost:8080/"
        },
        "id": "JQFF_cfSaN7m",
        "outputId": "86ae03a3-5707-430f-8a88-06c7745605c0"
      },
      "execution_count": 12,
      "outputs": [
        {
          "output_type": "stream",
          "name": "stdout",
          "text": [
            "('A spectre is haunting Europe—the spectre of Communism. All the Powers have '\n",
            " 'entered into a holy alliance to exorcise this. Communism is already '\n",
            " 'acknowledged by all European Powers to be a Power. It is high time that '\n",
            " 'Communists should openly, in the face of the. whole world, publish their '\n",
            " 'views, their aims, their tendencies, and.meet this nursery tale of the '\n",
            " 'Spectre of Communism with a Manifesto of the party itself. To this end, '\n",
            " 'Communists of various nationalities have assembled in London, and sketched '\n",
            " 'the following Manifesto, to be published in the. English, French, German, '\n",
            " 'Italian, Flemish and Danish languages. The modern bourgeois society that has '\n",
            " 'sprouted from the ruins of feudal society has not done away with class '\n",
            " 'antagonisms. It has but firmly established new classes, new conditions of '\n",
            " 'oppression, new forms of struggle in place of the old ones.')\n"
          ]
        }
      ]
    },
    {
      "cell_type": "code",
      "source": [
        "## summarize book with T5 model\n",
        "t0 = time.time() # timer\n",
        "summary_manifesto_t5 = summarizer_t5(communist_manifesto_cl, truncation=True, min_length=150, max_length=500) # change min_ and max_length for different output\n",
        "print(\"Summarization took \" + str(round((time.time() - t0) / 60, 2)) + \" minutes.\") # timer"
      ],
      "metadata": {
        "colab": {
          "base_uri": "https://localhost:8080/"
        },
        "id": "wILOobMZab1x",
        "outputId": "d75457a4-89d7-463a-ec4a-8c6d7adecf17"
      },
      "execution_count": 13,
      "outputs": [
        {
          "output_type": "stream",
          "name": "stdout",
          "text": [
            "Summarization took 1.67 minutes.\n"
          ]
        }
      ]
    },
    {
      "cell_type": "code",
      "source": [
        "pp.pprint(summary_manifesto_t5[0]['summary_text'])"
      ],
      "metadata": {
        "colab": {
          "base_uri": "https://localhost:8080/"
        },
        "id": "X8fKo4OfahYO",
        "outputId": "23525f73-de49-4160-ebbe-9364e72ba0a4"
      },
      "execution_count": 14,
      "outputs": [
        {
          "output_type": "stream",
          "name": "stdout",
          "text": [
            "('all the Powers of old Europe have entered into a holy alliance to exorcise '\n",
            " 'the spectre of communism . a Manifesto of the communist party will be '\n",
            " 'published in the english, french, german, italian, flanders and danes '\n",
            " 'languages . the aims and tendencies of communists should be published '\n",
            " 'openly, in the face of the whole world, says david bourgeois . \"the '\n",
            " 'communist movement is not a party, it is a movement a .- a- n aa-a na en a. '\n",
            " '- .a a, a \"a')\n"
          ]
        }
      ]
    },
    {
      "cell_type": "code",
      "source": [
        "## download book\n",
        "book_raw = requests.get(\"http://gutenberg.net.au/ebooks01/0100021.txt\")\n",
        "orwell_1984 = book_raw.text\n",
        "# cleaning\n",
        "delimiter = 'PART ONE'\n",
        "orwell_1984_cl = delimiter + orwell_1984.split(delimiter, 1)[1]\n",
        "delimiter2 = \"THE END\"\n",
        "orwell_1984_cl = orwell_1984_cl.split(delimiter2, 1)[0] + delimiter2\n",
        "#print(orwell_1984_cl)"
      ],
      "metadata": {
        "id": "Gl6K-yh7a5l8"
      },
      "execution_count": 16,
      "outputs": []
    },
    {
      "cell_type": "code",
      "source": [
        "## summarize book with BART model\n",
        "t0 = time.time() # timer\n",
        "summary_orwell_bart = summarizer_bart(orwell_1984_cl, truncation=True, min_length=150, max_length=500) # change min_ and max_length for different output\n",
        "print(\"Summarization took \" + str(round((time.time() - t0) / 60, 2)) + \" minutes.\") # timer"
      ],
      "metadata": {
        "colab": {
          "base_uri": "https://localhost:8080/"
        },
        "id": "SsC1PtfrbJTE",
        "outputId": "d4c84a8a-d2db-4e27-8f97-abd54b853127"
      },
      "execution_count": 17,
      "outputs": [
        {
          "output_type": "stream",
          "name": "stdout",
          "text": [
            "Summarization took 1.03 minutes.\n"
          ]
        }
      ]
    },
    {
      "cell_type": "code",
      "source": [
        "pp.pprint(summary_orwell_bart[0]['summary_text'])"
      ],
      "metadata": {
        "colab": {
          "base_uri": "https://localhost:8080/"
        },
        "id": "Kju2q7qgbVgm",
        "outputId": "7b251a31-f0de-4ade-e7c1-77828ba4d8ab"
      },
      "execution_count": 18,
      "outputs": [
        {
          "output_type": "stream",
          "name": "stdout",
          "text": [
            "('Winston Smith lived in a flat seven flights up from the Ministry of Truth in '\n",
            " 'central London. He kept his back to the telescreen, but it was impossible to '\n",
            " 'turn it off completely. Every sound he made would be picked up by the '\n",
            " 'Thought Police, who watched him all the time. He had to live with the fear '\n",
            " 'that he would be seen and heard by the police. He decided to write a book '\n",
            " 'about his experiences. He began with the first chapter of his book, which he '\n",
            " \"called 'Hate Week' The book was published by Simon & Schuster, and is \"\n",
            " 'available in paperback and hardback. For more information on the book, visit '\n",
            " 'www.simonandschuster.co.uk/Hate-Week-Volume-1-2.')\n"
          ]
        }
      ]
    },
    {
      "cell_type": "code",
      "source": [
        "## summarize book with T5 model\n",
        "t0 = time.time() # timer\n",
        "summary_orwell_t5 = summarizer_t5(orwell_1984_cl, truncation=True, min_length=150, max_length=500) # change min_ and max_length for different output\n",
        "print(\"Summarization took \" + str(round((time.time() - t0) / 60, 2)) + \" minutes.\") # timer"
      ],
      "metadata": {
        "colab": {
          "base_uri": "https://localhost:8080/"
        },
        "id": "K3o4X3R_bmT8",
        "outputId": "cc54dd2b-add5-476e-c86a-b445bb581355"
      },
      "execution_count": 19,
      "outputs": [
        {
          "output_type": "stream",
          "name": "stdout",
          "text": [
            "Summarization took 1.62 minutes.\n"
          ]
        }
      ]
    },
    {
      "cell_type": "code",
      "source": [
        "pp.pprint(summary_orwell_t5[0]['summary_text'])"
      ],
      "metadata": {
        "colab": {
          "base_uri": "https://localhost:8080/"
        },
        "id": "4eO6QjyRbqui",
        "outputId": "cb6ad438-1bd7-416c-87ca-4708eaef8b67"
      },
      "execution_count": 20,
      "outputs": [
        {
          "output_type": "stream",
          "name": "stdout",
          "text": [
            "('big brother is watching you, the caption beneath the poster reads . inside '\n",
            " 'the flat a fruity voice is reading out a list of figures which had something '\n",
            " 'to do with the production of pig-iron . the telescreen can be dimmed, but '\n",
            " 'there is no way of shutting it off completely . he moves over to the window: '\n",
            " 'a smallish, frail figure, his skin roughened by coarse soap and blunt razor '\n",
            " 'blades, and the cold of the winter that had ended. outside he sees a a- a. a '\n",
            " 'en aa .-a n aen .a enaenenaaa')\n"
          ]
        }
      ]
    },
    {
      "cell_type": "code",
      "source": [
        "## download book\n",
        "book_raw = requests.get(\"http://www.gutenberg.org/cache/epub/2009/pg2009.txt\")\n",
        "darwin_origin_of_species = book_raw.text\n",
        "# cleaning\n",
        "delimiter = 'INTRODUCTION.'\n",
        "darwin_origin_of_species_cl = \"ORIGIN OF SPECIES.\" + delimiter + darwin_origin_of_species.split(delimiter, 1)[1]\n",
        "delimiter2 = \"GLOSSARY OF THE PRINCIPAL SCIENTIFIC TERMS USED IN THE PRESENT VOLUME.\"\n",
        "darwin_origin_of_species_cl =  darwin_origin_of_species_cl.split(delimiter2, 1)[0]\n",
        "print(darwin_origin_of_species_cl)"
      ],
      "metadata": {
        "colab": {
          "base_uri": "https://localhost:8080/"
        },
        "id": "t8EYshZacE2J",
        "outputId": "b47b487a-26dc-4ff7-9e29-a55c9562853d"
      },
      "execution_count": 21,
      "outputs": [
        {
          "output_type": "stream",
          "name": "stdout",
          "text": [
            "ORIGIN OF SPECIES.INTRODUCTION.\r\n",
            "\r\n",
            "CHAPTER I. VARIATION UNDER DOMESTICATION\r\n",
            "CHAPTER II. VARIATION UNDER NATURE\r\n",
            "CHAPTER III. STRUGGLE FOR EXISTENCE\r\n",
            "CHAPTER IV. NATURAL SELECTION; OR THE SURVIVAL OF THE FITTEST\r\n",
            "CHAPTER V. LAWS OF VARIATION\r\n",
            "CHAPTER VI. DIFFICULTIES OF THE THEORY\r\n",
            "CHAPTER VII. MISCELLANEOUS OBJECTIONS TO THE THEORY OF NATURAL SELECTION\r\n",
            "CHAPTER VIII. INSTINCT\r\n",
            "CHAPTER IX. HYBRIDISM\r\n",
            "CHAPTER X. ON THE IMPERFECTION OF THE GEOLOGICAL RECORD\r\n",
            "CHAPTER XI. ON THE GEOLOGICAL SUCCESSION OF ORGANIC BEINGS\r\n",
            "CHAPTER XII. GEOGRAPHICAL DISTRIBUTION\r\n",
            "CHAPTER XIII. GEOGRAPHICAL DISTRIBUTION—continued\r\n",
            "CHAPTER XIV. MUTUAL AFFINITIES OF ORGANIC BEINGS\r\n",
            "CHAPTER XV. RECAPITULATION AND CONCLUSION\r\n",
            "\r\n",
            "\n"
          ]
        }
      ]
    },
    {
      "cell_type": "code",
      "source": [
        "## summarize book with BART model\n",
        "t0 = time.time() # timer\n",
        "summary_darwin_bart = summarizer_bart(darwin_origin_of_species_cl, truncation=True, min_length=150, max_length=500) # change min_ and max_length for different output\n",
        "print(\"Summarization took \" + str(round((time.time() - t0) / 60, 2)) + \" minutes.\") # timer"
      ],
      "metadata": {
        "colab": {
          "base_uri": "https://localhost:8080/"
        },
        "id": "Xtft1CnOcKTU",
        "outputId": "d90c1687-1f3f-4b4e-a889-f98bf645245b"
      },
      "execution_count": 22,
      "outputs": [
        {
          "output_type": "stream",
          "name": "stderr",
          "text": [
            "Your max_length is set to 500, but your input_length is only 241. Since this is a summarization task, where outputs shorter than the input are typically wanted, you might consider decreasing max_length manually, e.g. summarizer('...', max_length=120)\n"
          ]
        },
        {
          "output_type": "stream",
          "name": "stdout",
          "text": [
            "Summarization took 0.81 minutes.\n"
          ]
        }
      ]
    },
    {
      "cell_type": "code",
      "source": [
        "pp.pprint(summary_darwin_bart[0]['summary_text'])"
      ],
      "metadata": {
        "colab": {
          "base_uri": "https://localhost:8080/"
        },
        "id": "Z6r7y1rpcQ86",
        "outputId": "61ec04d3-f611-4bd2-ded7-d102ae60a650"
      },
      "execution_count": 23,
      "outputs": [
        {
          "output_type": "stream",
          "name": "stdout",
          "text": [
            "('The book is divided into four parts. The first part of the book deals with '\n",
            " 'the theory of natural selection. The second part focuses on the history of '\n",
            " 'the world. The third part deals with how the world came into existence. The '\n",
            " 'fourth part is about how the universe came into being. The book is published '\n",
            " 'by Simon & Schuster, Inc. in the U.S. and Canada, and is available on '\n",
            " 'Amazon.com for $24.99. For more, go to: '\n",
            " 'http://www.simonandschuster.com/books/the-science-of-natural-selection-and-the-history-of\\xa0'\n",
            " 'the-world\\xa0and\\xa0for more, visit: '\n",
            " 'http:/www.samaritans.org/science/thescience/natural- Selection.')\n"
          ]
        }
      ]
    },
    {
      "cell_type": "code",
      "source": [
        "## summarize book with T5 model\n",
        "t0 = time.time() # timer\n",
        "summary_darwin_t5 = summarizer_t5(darwin_origin_of_species_cl, truncation=True, min_length=150, max_length=500) # change min_ and max_length for different output\n",
        "print(\"Summarization took \" + str(round((time.time() - t0) / 60, 2)) + \" minutes.\") # timer"
      ],
      "metadata": {
        "colab": {
          "base_uri": "https://localhost:8080/"
        },
        "id": "aOPyZFzrcukA",
        "outputId": "853b00c0-03ee-4f8b-bd0d-fcfc80b3ffc8"
      },
      "execution_count": 24,
      "outputs": [
        {
          "output_type": "stream",
          "name": "stderr",
          "text": [
            "Your max_length is set to 500, but your input_length is only 287. Since this is a summarization task, where outputs shorter than the input are typically wanted, you might consider decreasing max_length manually, e.g. summarizer('...', max_length=143)\n"
          ]
        },
        {
          "output_type": "stream",
          "name": "stdout",
          "text": [
            "Summarization took 1.38 minutes.\n"
          ]
        }
      ]
    },
    {
      "cell_type": "code",
      "source": [
        "pp.pprint(summary_darwin_t5[0]['summary_text'])"
      ],
      "metadata": {
        "colab": {
          "base_uri": "https://localhost:8080/"
        },
        "id": "psskJl7tc7Id",
        "outputId": "1735fbc7-8beb-41b9-a2ed-ee69e7a61d85"
      },
      "execution_count": 25,
      "outputs": [
        {
          "output_type": "stream",
          "name": "stdout",
          "text": [
            "('ORIGIN OF SPECIES.INTRODUCTION.CHAPTER I. VARIATION UNDER DOMESTICATION '\n",
            " 'CHAPTER II. NATURAL SELECTION; OR THE SURVIVAL OF THE FITTEST CHAPTERS VI, '\n",
            " 'VII, VIII. MISCELLANEOUS OBJECTIONS TO THE THEORY OF NATURE’S SECTION. '\n",
            " 'HYBRIDISM. XI. ON THE GEOLOGICAL SUCCESS OF ORGANIC. .- '\n",
            " '.\\xad\\xad\\xad-\\xad\\xad–\\xad\\xad –\\xad–– – . ––E.–A.– \\xad\\xad')\n"
          ]
        }
      ]
    },
    {
      "cell_type": "code",
      "source": [
        "## download book\n",
        "book_raw = requests.get(\"http://www.gutenberg.org/cache/epub/3420/pg3420.txt\")\n",
        "rights_woman = book_raw.text\n",
        "# cleaning\n",
        "delimiter = 'A VINDICATION OF THE RIGHTS OF WOMAN,'\n",
        "rights_woman_cl = delimiter + rights_woman.split(delimiter, 1)[1]\n",
        "#print(rights_woman_cl)"
      ],
      "metadata": {
        "id": "3cch4-55dHPJ"
      },
      "execution_count": 26,
      "outputs": []
    },
    {
      "cell_type": "code",
      "source": [
        "## summarize book\n",
        "t0 = time.time() # timer\n",
        "summary_rights_woman_bart = summarizer_bart(rights_woman_cl, truncation=True, min_length=150, max_length=500) # change min_ and max_length for different output\n",
        "print(\"Summarization took \" + str(round((time.time() - t0) / 60, 2)) + \" minutes.\") # timer"
      ],
      "metadata": {
        "colab": {
          "base_uri": "https://localhost:8080/"
        },
        "id": "PEv5zyiKdMV1",
        "outputId": "21d01ea7-e962-4c04-dd57-4c9935e9d130"
      },
      "execution_count": 27,
      "outputs": [
        {
          "output_type": "stream",
          "name": "stdout",
          "text": [
            "Summarization took 1.11 minutes.\n"
          ]
        }
      ]
    },
    {
      "cell_type": "code",
      "source": [
        "pp.pprint(summary_rights_woman_bart[0]['summary_text'])"
      ],
      "metadata": {
        "colab": {
          "base_uri": "https://localhost:8080/"
        },
        "id": "GX0KzvAWdROP",
        "outputId": "9332c01e-4a90-484b-f4b9-adbbc1b59ac1"
      },
      "execution_count": 28,
      "outputs": [
        {
          "output_type": "stream",
          "name": "stdout",
          "text": [
            "('M. Wollstonecraft was born in 1759. She became a teacher from motives of '\n",
            " 'benevolence, rather than philanthropy. Her father was so great that the '\n",
            " 'place of her birth is uncertain. She left her parents at the age of '\n",
            " 'nineteen, and resided with a Mrs. Dawson for two years. Her friend and '\n",
            " 'colleague, Dr. Price, died of a pulmonary disease. She gave proof of the '\n",
            " 'superior qualification of superior qualification for the superior role of a '\n",
            " 'woman. She wrote a book called The Rights of the Woman, published in 2001. '\n",
            " 'The book is published by Simon & Schuster, London, priced £16.99. For more '\n",
            " 'information on the book, or to order a copy, visit: '\n",
            " 'http://www.simonandschuster.com/ The-Rights-of-the-Woman.html.')\n"
          ]
        }
      ]
    },
    {
      "cell_type": "code",
      "source": [
        "## summarize book\n",
        "t0 = time.time() # timer\n",
        "summary_rights_woman_t5 = summarizer_t5(rights_woman_cl, truncation=True, min_length=150, max_length=500) # change min_ and max_length for different output\n",
        "print(\"Summarization took \" + str(round((time.time() - t0) / 60, 2)) + \" minutes.\") # timer"
      ],
      "metadata": {
        "colab": {
          "base_uri": "https://localhost:8080/"
        },
        "id": "0gHMqslcd9P_",
        "outputId": "6d0e035c-0a60-444b-9837-51a7d93c80ab"
      },
      "execution_count": 29,
      "outputs": [
        {
          "output_type": "stream",
          "name": "stdout",
          "text": [
            "Summarization took 1.64 minutes.\n"
          ]
        }
      ]
    },
    {
      "cell_type": "code",
      "source": [
        "pp.pprint(summary_rights_woman_t5[0]['summary_text'])"
      ],
      "metadata": {
        "colab": {
          "base_uri": "https://localhost:8080/"
        },
        "id": "TR_PYYqfeClh",
        "outputId": "e71bb7ae-6163-4364-ad79-4564bc36bc43"
      },
      "execution_count": 30,
      "outputs": [
        {
          "output_type": "stream",
          "name": "stdout",
          "text": [
            "('A VINDICATION OF THE RIGHTS OF WOMAN, WITH STRICTURES ON POLITICAL AND MORAL '\n",
            " 'SUBJECTS, BY MARY WOLLSTONECRAFT . INTRODUCTION, OBSERVATIONS ON THE STATE '\n",
            " \"OF DEGRADATION, AND WOMEN'S DUTY TO PARENTS, AND ON NATIONAL EDUCATION . \"\n",
            " 'WITH A BIOGRAPHICAL SKETCH OF AUTHOR. 8 April,n a a- - . '\n",
            " '--------n--E.--.-----------E----S-')\n"
          ]
        }
      ]
    }
  ]
}